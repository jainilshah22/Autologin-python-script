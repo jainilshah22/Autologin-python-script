{
 "cells": [
  {
   "cell_type": "code",
   "execution_count": 17,
   "id": "c267f997",
   "metadata": {
    "scrolled": true
   },
   "outputs": [],
   "source": [
    "from selenium import webdriver\n",
    "#!pip install webdriver-manager\n",
    "from webdriver_manager.chrome import ChromeDriverManager\n",
    "import time"
   ]
  },
  {
   "cell_type": "code",
   "execution_count": 18,
   "id": "359fee6c",
   "metadata": {
    "scrolled": true
   },
   "outputs": [],
   "source": [
    "#connection with browser\n",
    "#browser = webdriver.Chrome(\"Users/jainilshah/Downloads/chromedriver_mac_arm64/chromedriver\")\n",
    "browser = webdriver.Chrome(ChromeDriverManager().install())\n",
    "browser.maximize_window()\n",
    "browser.get(\"http://www.hackveda.in/one2one\")\n",
    "time.sleep(5)"
   ]
  },
  {
   "cell_type": "code",
   "execution_count": 19,
   "id": "158208e5",
   "metadata": {},
   "outputs": [
    {
     "data": {
      "text/plain": [
       "<selenium.webdriver.remote.webelement.WebElement (session=\"b344f548301bcf0d2b90e82429f09285\", element=\"8E5DE96CD4E53A1BA9BA93575C2C7B34_element_2\")>"
      ]
     },
     "execution_count": 19,
     "metadata": {},
     "output_type": "execute_result"
    }
   ],
   "source": [
    "username=browser.find_element_by_id(\"email\")\n",
    "username"
   ]
  },
  {
   "cell_type": "code",
   "execution_count": 20,
   "id": "541a3558",
   "metadata": {},
   "outputs": [],
   "source": [
    "username.send_keys(\"**@gmail.com\") # enter the email id or username\n",
    "time.sleep(3)"
   ]
  },
  {
   "cell_type": "code",
   "execution_count": 21,
   "id": "7b661f46",
   "metadata": {},
   "outputs": [],
   "source": [
    "password=browser.find_element_by_id(\"password\")\n",
    "password.send_keys(\"\")# enter the password\n",
    "time.sleep(3)"
   ]
  },
  {
   "cell_type": "code",
   "execution_count": 22,
   "id": "6623b7a7",
   "metadata": {},
   "outputs": [],
   "source": [
    "button=browser.find_element_by_id(\"login_btn\")\n",
    "button.click()"
   ]
  },
  {
   "cell_type": "code",
   "execution_count": null,
   "id": "d4ac3486",
   "metadata": {},
   "outputs": [],
   "source": []
  }
 ],
 "metadata": {
  "kernelspec": {
   "display_name": "Python 3 (ipykernel)",
   "language": "python",
   "name": "python3"
  },
  "language_info": {
   "codemirror_mode": {
    "name": "ipython",
    "version": 3
   },
   "file_extension": ".py",
   "mimetype": "text/x-python",
   "name": "python",
   "nbconvert_exporter": "python",
   "pygments_lexer": "ipython3",
   "version": "3.11.5"
  }
 },
 "nbformat": 4,
 "nbformat_minor": 5
}
